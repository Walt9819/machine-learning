{
 "cells": [
  {
   "cell_type": "markdown",
   "metadata": {},
   "source": [
    "# Introducción a Machine Learning"
   ]
  },
  {
   "cell_type": "markdown",
   "metadata": {},
   "source": [
    "## Fundamentos"
   ]
  },
  {
   "cell_type": "markdown",
   "metadata": {},
   "source": [
    "#### Definición\n",
    "Machine Learning es una rama de la inteligencia artificial que permite a las computadoras aprender a partir de datos y realizar tareas sin ser explícitamente programadas para cada una de ellas.\n",
    "\n",
    "\n",
    "<img src=\"../imgs/ML.png\" style=\"max-width: 50%;\">"
   ]
  },
  {
   "cell_type": "markdown",
   "metadata": {},
   "source": [
    "#### Principales aplicaciones\n",
    "\n",
    "- Reconocimiento de imágenes y voz.\n",
    "- Sistemas de recomendación (como Netflix y Amazon).\n",
    "- Diagnóstico médico.\n",
    "- Predicción de mercados financieros.\n",
    "- Vehículos autónomos.\n",
    "\n",
    "<img src=\"../imgs/types_ML.png\" style=\"max-width: 50%;\">"
   ]
  },
  {
   "cell_type": "markdown",
   "metadata": {},
   "source": [
    "#### Tipos de machine learning\n",
    "\n",
    "**Aprendizaje Supervisado (Supervised Learning)**:\n",
    "- El algoritmo aprende de datos etiquetados.\n",
    "- Ejemplo: Clasificación de correos electrónicos como spam o no spam.\n",
    "\n",
    "\n",
    "**Aprendizaje No Supervisado (Unsupervised Learning)**:\n",
    "- El algoritmo busca patrones en datos sin etiquetar.\n",
    "- Ejemplo: Agrupación de clientes en segmentos de mercado.\n",
    "\n",
    "\n",
    "\n",
    "**Aprendizaje por Refuerzo (Reinforcement Learning)**:\n",
    "- El algoritmo aprende a través de prueba y error, recibiendo recompensas o castigos.\n",
    "- Ejemplo: Juegos como el ajedrez donde el algoritmo mejora con cada partida.\n",
    "\n",
    "<img src=\"../imgs/comparison_ML.png\" style=\"max-width: 50%;\">"
   ]
  },
  {
   "cell_type": "markdown",
   "metadata": {},
   "source": [
    "## Conceptos"
   ]
  },
  {
   "cell_type": "markdown",
   "metadata": {},
   "source": [
    "#### Características (Features)\n",
    "- Variables de entrada que el modelo utiliza para hacer predicciones.\n",
    "- Ejemplo: En un modelo que predice precios de casas, las características pueden ser el tamaño de la casa, el número de habitaciones, la ubicación, etc.\n",
    "\n",
    "#### Etiquetas (Labels):\n",
    "- El resultado o la variable de salida que el modelo predice.\n",
    "- Ejemplo: En el mismo modelo de precios de casas, la etiqueta sería el precio de la casa\n",
    "\n",
    "\n",
    "<img src=\"../imgs/house_price.png\" style=\"max-width: 50%;\">"
   ]
  },
  {
   "cell_type": "markdown",
   "metadata": {},
   "source": [
    "#### Sobreajuste (Overfitting):\n",
    "- Ocurre cuando el modelo se ajusta demasiado bien a los datos de entrenamiento, capturando el ruido además de la señal.\n",
    "- Consecuencia: El modelo tiene un alto rendimiento en los datos de entrenamiento pero falla en generalizar a nuevos datos.\n",
    "\n",
    "#### Subajuste (Underfitting):\n",
    "- Ocurre cuando el modelo es demasiado simple para capturar la estructura de los datos.\n",
    "- Consecuencia: El modelo no tiene un buen rendimiento ni en los datos de entrenamiento ni en los nuevos datos.\n",
    "\n",
    "<img src=\"../imgs/fitting.svg\" style=\"max-width: 50%;\">"
   ]
  },
  {
   "cell_type": "markdown",
   "metadata": {},
   "source": [
    "#### Entrenamiento (Training):\n",
    "- El proceso de enseñar al modelo utilizando un conjunto de datos.\n",
    "\n",
    "#### Validación (Validation):\n",
    "- Conocer resultados preliminares durante el entrenamiento.\n",
    "\n",
    "#### Pruebas (Testing):\n",
    "- Evaluar el modelo utilizando un conjunto de datos diferentes a los de entrenamiento para medir su desempeño.\n",
    "\n",
    "<img src=\"../imgs/split_dataset.png\" style=\"max-width: 50%;\">"
   ]
  }
 ],
 "metadata": {
  "language_info": {
   "name": "python"
  }
 },
 "nbformat": 4,
 "nbformat_minor": 2
}
